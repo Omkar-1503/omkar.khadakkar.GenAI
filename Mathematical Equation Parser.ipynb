{
 "cells": [
  {
   "cell_type": "markdown",
   "metadata": {},
   "source": [
    "Generate a model to represent a mathematical equation, write a program to parse the\n",
    "equation, and ask for input for each parameter."
   ]
  },
  {
   "cell_type": "code",
   "execution_count": 7,
   "metadata": {},
   "outputs": [
    {
     "name": "stdout",
     "output_type": "stream",
     "text": [
      "Solutions of the quadratic equation 1x^2 + -3x + 2 = 0 are: (2.0, 1.0)\n"
     ]
    }
   ],
   "source": [
    "import math\n",
    "\n",
    "def parse_quadratic_equation(a, b, c):\n",
    "    discriminant = b**2 - 4*a*c\n",
    "    \n",
    "    if discriminant > 0:\n",
    "        # Two real and distinct solutions\n",
    "        x1 = (-b + math.sqrt(discriminant)) / (2 * a)\n",
    "        x2 = (-b - math.sqrt(discriminant)) / (2 * a)\n",
    "        return x1, x2\n",
    "    elif discriminant == 0:\n",
    "        x = -b / (2 * a)\n",
    "        return x,\n",
    "    else:\n",
    "        return \"No real solutions\"\n",
    "\n",
    "a = 1\n",
    "b = -3\n",
    "c = 2\n",
    "\n",
    "solutions = parse_quadratic_equation(a, b, c)\n",
    "print(f\"Solutions of the quadratic equation {a}x^2 + {b}x + {c} = 0 are: {solutions}\")\n"
   ]
  }
 ],
 "metadata": {
  "kernelspec": {
   "display_name": "Python 3",
   "language": "python",
   "name": "python3"
  },
  "language_info": {
   "codemirror_mode": {
    "name": "ipython",
    "version": 3
   },
   "file_extension": ".py",
   "mimetype": "text/x-python",
   "name": "python",
   "nbconvert_exporter": "python",
   "pygments_lexer": "ipython3",
   "version": "3.10.0"
  }
 },
 "nbformat": 4,
 "nbformat_minor": 2
}
